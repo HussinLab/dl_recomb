{
 "cells": [
  {
   "cell_type": "code",
   "execution_count": 2,
   "id": "contained-action",
   "metadata": {},
   "outputs": [
    {
     "data": {
      "text/plain": [
       "'\\tfirst_cnn_filter_size\\n\\tfirst_cnn_n_filters\\n\\tfirst_cnn_pool_size_strides\\n\\tn_convs\\n\\tn_convs_filter_size\\n\\tn_convs_n_filters\\n\\tn_convs_pool_size_stride\\n\\tfirst_fcc_size\\n\\tn_fccs\\n\\tfccs_size'"
      ]
     },
     "execution_count": 2,
     "metadata": {},
     "output_type": "execute_result"
    }
   ],
   "source": [
    "s = \"\"\"\tfirst_cnn_filter_size\n",
    "\tfirst_cnn_n_filters\n",
    "\tfirst_cnn_pool_size_strides\n",
    "\tn_convs\n",
    "\tn_convs_filter_size\n",
    "\tn_convs_n_filters\n",
    "\tn_convs_pool_size_stride\n",
    "\tfirst_fcc_size\n",
    "\tn_fccs\n",
    "\tfccs_size\"\"\"\n",
    "s"
   ]
  },
  {
   "cell_type": "code",
   "execution_count": 3,
   "id": "departmental-hypothetical",
   "metadata": {},
   "outputs": [
    {
     "data": {
      "text/plain": [
       "['first_cnn_filter_size',\n",
       " 'first_cnn_n_filters',\n",
       " 'first_cnn_pool_size_strides',\n",
       " 'n_convs',\n",
       " 'n_convs_filter_size',\n",
       " 'n_convs_n_filters',\n",
       " 'n_convs_pool_size_stride',\n",
       " 'first_fcc_size',\n",
       " 'n_fccs',\n",
       " 'fccs_size']"
      ]
     },
     "execution_count": 3,
     "metadata": {},
     "output_type": "execute_result"
    }
   ],
   "source": [
    "ss = s.replace(\"\\t\", \"\").split(\"\\n\")\n",
    "ss"
   ]
  },
  {
   "cell_type": "code",
   "execution_count": 4,
   "id": "surrounded-climate",
   "metadata": {},
   "outputs": [
    {
     "name": "stdout",
     "output_type": "stream",
     "text": [
      "FIRST_CNN_FILTER_SIZE=\n",
      "FIRST_CNN_N_FILTERS=\n",
      "FIRST_CNN_POOL_SIZE_STRIDES=\n",
      "N_CONVS=\n",
      "N_CONVS_FILTER_SIZE=\n",
      "N_CONVS_N_FILTERS=\n",
      "N_CONVS_POOL_SIZE_STRIDE=\n",
      "FIRST_FCC_SIZE=\n",
      "N_FCCS=\n",
      "FCCS_SIZE=\n"
     ]
    }
   ],
   "source": [
    "for s in ss:\n",
    "    print(f\"{s.upper()}=\")"
   ]
  },
  {
   "cell_type": "code",
   "execution_count": 5,
   "id": "floral-great",
   "metadata": {},
   "outputs": [
    {
     "data": {
      "text/plain": [
       "<function str.upper()>"
      ]
     },
     "execution_count": 5,
     "metadata": {},
     "output_type": "execute_result"
    }
   ],
   "source": [
    "s.upper"
   ]
  },
  {
   "cell_type": "code",
   "execution_count": null,
   "id": "designing-swiss",
   "metadata": {},
   "outputs": [],
   "source": []
  },
  {
   "cell_type": "code",
   "execution_count": null,
   "id": "covered-parent",
   "metadata": {},
   "outputs": [],
   "source": []
  },
  {
   "cell_type": "code",
   "execution_count": null,
   "id": "muslim-supervisor",
   "metadata": {},
   "outputs": [],
   "source": []
  },
  {
   "cell_type": "code",
   "execution_count": 6,
   "id": "binding-microwave",
   "metadata": {},
   "outputs": [],
   "source": [
    "s='''MAIN_TRAINER_MODULE=\"trainer.train\"\n",
    "RUNTIME_VERSION=\"2.1\"\n",
    "PYTHON_VERSION=\"3.7\"\n",
    "REGION=\"us-central1\"\n",
    "SCALE_TIER=custom\n",
    "MACHINE_TYPE=\"n1-standard-4\"\n",
    "GPU_TYPE=\"count=1,type=nvidia-tesla-t4\"\n",
    "\n",
    "# Define HPS to pass\n",
    "## File\n",
    "OUTPUT_NAME=\"A_hotspots_intersectC_hotspots\"\n",
    "SEQ_LEN=800\n",
    "\n",
    "## Experiment tracking params\n",
    "SAVE_DATASET=False\n",
    "SAVE_MODEL=False\n",
    "EVAL_MODEL=False\n",
    "\n",
    "\n",
    "## Dataset params\n",
    "FOLDS_FN_NAME=\"whole_genome_shuffled_k_fold\"\n",
    "RANDOM_SEED=123\n",
    "USE_X_Y=True\n",
    "\n",
    "## Training params\n",
    "BATCH_SIZE=128\n",
    "EPOCHS=100\n",
    "N_FOLDS=3\n",
    "TRAIN_PERC=\"0.6\"\n",
    "TEST2_INTERVAL=10\n",
    "\n",
    "## Architecture params\n",
    "MODEL_TYPE=\"TWIN_CNN_\"\n",
    "USER_REV_COMPL=True\n",
    "CHROM_IDX=False\n",
    "MIDPOINT=False\n",
    "\n",
    "## Hyperparameters (TEST ONLY)\n",
    "FIRST_CNN_FILTER_SIZE=20\n",
    "FIRST_CNN_N_FILTERS=12\n",
    "FIRST_CNN_POOL_SIZE_STRIDES=10\n",
    "N_CONVS=1\n",
    "N_CONVS_FILTER_SIZE=10\n",
    "N_CONVS_N_FILTERS=12\n",
    "N_CONVS_POOL_SIZE_STRIDE=5\n",
    "FIRST_FCC_SIZE=50\n",
    "N_FCCS=2\n",
    "FCCS_SIZE=60\n",
    "\n",
    "# ALWAYS FILL\n",
    "JOB_NAME=\"$EXPERIMENT_NAME$MODEL_TYPE$(date +\"%Y%m%d_%H%M%S\")\"\n",
    "JOB_DIR=\"gs://$BUCKET_NAME/hp_job_dir_$MODEL_TYPE\"\n",
    "SCRIPTS_FOLDER_NAME='./../template'\n",
    "TRAINER_PACKAGE_PATH=\"./$SCRIPTS_FOLDER_NAME/trainer\"\n",
    "\n",
    "\n",
    "EXPERIMENT_NAME=\"HPS_CNN_800_A_C_DEC21_001\"\n",
    "MLFLOW_URI=\"http://34.122.175.239:5000/\"\n",
    "'''"
   ]
  },
  {
   "cell_type": "code",
   "execution_count": 7,
   "id": "adjustable-cartoon",
   "metadata": {
    "scrolled": true
   },
   "outputs": [
    {
     "data": {
      "text/plain": [
       "['MAIN_TRAINER_MODULE=\"trainer.train\"',\n",
       " 'RUNTIME_VERSION=\"2.1\"',\n",
       " 'PYTHON_VERSION=\"3.7\"',\n",
       " 'REGION=\"us-central1\"',\n",
       " 'SCALE_TIER=custom',\n",
       " 'MACHINE_TYPE=\"n1-standard-4\"',\n",
       " 'GPU_TYPE=\"count=1,type=nvidia-tesla-t4\"',\n",
       " '',\n",
       " '# Define HPS to pass',\n",
       " '## File',\n",
       " 'OUTPUT_NAME=\"A_hotspots_intersectC_hotspots\"',\n",
       " 'SEQ_LEN=800',\n",
       " '',\n",
       " '## Experiment tracking params',\n",
       " 'SAVE_DATASET=False',\n",
       " 'SAVE_MODEL=False',\n",
       " 'EVAL_MODEL=False',\n",
       " '',\n",
       " '',\n",
       " '## Dataset params',\n",
       " 'FOLDS_FN_NAME=\"whole_genome_shuffled_k_fold\"',\n",
       " 'RANDOM_SEED=123',\n",
       " 'USE_X_Y=True',\n",
       " '',\n",
       " '## Training params',\n",
       " 'BATCH_SIZE=128',\n",
       " 'EPOCHS=100',\n",
       " 'N_FOLDS=3',\n",
       " 'TRAIN_PERC=\"0.6\"',\n",
       " 'TEST2_INTERVAL=10',\n",
       " '',\n",
       " '## Architecture params',\n",
       " 'MODEL_TYPE=\"TWIN_CNN_\"',\n",
       " 'USER_REV_COMPL=True',\n",
       " 'CHROM_IDX=False',\n",
       " 'MIDPOINT=False',\n",
       " '',\n",
       " '## Hyperparameters (TEST ONLY)',\n",
       " 'FIRST_CNN_FILTER_SIZE=20',\n",
       " 'FIRST_CNN_N_FILTERS=12',\n",
       " 'FIRST_CNN_POOL_SIZE_STRIDES=10',\n",
       " 'N_CONVS=1',\n",
       " 'N_CONVS_FILTER_SIZE=10',\n",
       " 'N_CONVS_N_FILTERS=12',\n",
       " 'N_CONVS_POOL_SIZE_STRIDE=5',\n",
       " 'FIRST_FCC_SIZE=50',\n",
       " 'N_FCCS=2',\n",
       " 'FCCS_SIZE=60',\n",
       " '',\n",
       " '# ALWAYS FILL',\n",
       " 'JOB_NAME=\"$EXPERIMENT_NAME$MODEL_TYPE$(date +\"%Y%m%d_%H%M%S\")\"',\n",
       " 'JOB_DIR=\"gs://$BUCKET_NAME/hp_job_dir_$MODEL_TYPE\"',\n",
       " \"SCRIPTS_FOLDER_NAME='./../template'\",\n",
       " 'TRAINER_PACKAGE_PATH=\"./$SCRIPTS_FOLDER_NAME/trainer\"',\n",
       " '',\n",
       " '',\n",
       " 'EXPERIMENT_NAME=\"HPS_CNN_800_A_C_DEC21_001\"',\n",
       " 'MLFLOW_URI=\"http://34.122.175.239:5000/\"',\n",
       " '']"
      ]
     },
     "execution_count": 7,
     "metadata": {},
     "output_type": "execute_result"
    }
   ],
   "source": [
    "ss = s.replace(\"\\t\", \"\").split(\"\\n\")\n",
    "ss"
   ]
  },
  {
   "cell_type": "code",
   "execution_count": 8,
   "id": "typical-malawi",
   "metadata": {},
   "outputs": [
    {
     "name": "stdout",
     "output_type": "stream",
     "text": [
      "\t\t--main_trainer_module  $MAIN_TRAINER_MODULE\\\n",
      "\t\t--runtime_version  $RUNTIME_VERSION\\\n",
      "\t\t--python_version  $PYTHON_VERSION\\\n",
      "\t\t--region  $REGION\\\n",
      "\t\t--scale_tier  $SCALE_TIER\\\n",
      "\t\t--machine_type  $MACHINE_TYPE\\\n",
      "\t\t--gpu_type  $GPU_TYPE\\\n",
      "\t\t--output_name  $OUTPUT_NAME\\\n",
      "\t\t--seq_len  $SEQ_LEN\\\n",
      "\t\t--save_dataset  $SAVE_DATASET\\\n",
      "\t\t--save_model  $SAVE_MODEL\\\n",
      "\t\t--eval_model  $EVAL_MODEL\\\n",
      "\t\t--folds_fn_name  $FOLDS_FN_NAME\\\n",
      "\t\t--random_seed  $RANDOM_SEED\\\n",
      "\t\t--use_x_y  $USE_X_Y\\\n",
      "\t\t--batch_size  $BATCH_SIZE\\\n",
      "\t\t--epochs  $EPOCHS\\\n",
      "\t\t--n_folds  $N_FOLDS\\\n",
      "\t\t--train_perc  $TRAIN_PERC\\\n",
      "\t\t--test2_interval  $TEST2_INTERVAL\\\n",
      "\t\t--model_type  $MODEL_TYPE\\\n",
      "\t\t--user_rev_compl  $USER_REV_COMPL\\\n",
      "\t\t--chrom_idx  $CHROM_IDX\\\n",
      "\t\t--midpoint  $MIDPOINT\\\n",
      "\t\t--first_cnn_filter_size  $FIRST_CNN_FILTER_SIZE\\\n",
      "\t\t--first_cnn_n_filters  $FIRST_CNN_N_FILTERS\\\n",
      "\t\t--first_cnn_pool_size_strides  $FIRST_CNN_POOL_SIZE_STRIDES\\\n",
      "\t\t--n_convs  $N_CONVS\\\n",
      "\t\t--n_convs_filter_size  $N_CONVS_FILTER_SIZE\\\n",
      "\t\t--n_convs_n_filters  $N_CONVS_N_FILTERS\\\n",
      "\t\t--n_convs_pool_size_stride  $N_CONVS_POOL_SIZE_STRIDE\\\n",
      "\t\t--first_fcc_size  $FIRST_FCC_SIZE\\\n",
      "\t\t--n_fccs  $N_FCCS\\\n",
      "\t\t--fccs_size  $FCCS_SIZE\\\n",
      "\t\t--job_name  $JOB_NAME\\\n",
      "\t\t--job_dir  $JOB_DIR\\\n",
      "\t\t--scripts_folder_name  $SCRIPTS_FOLDER_NAME\\\n",
      "\t\t--trainer_package_path  $TRAINER_PACKAGE_PATH\\\n",
      "\t\t--experiment_name  $EXPERIMENT_NAME\\\n",
      "\t\t--mlflow_uri  $MLFLOW_URI\\\n"
     ]
    }
   ],
   "source": [
    "for s in ss:\n",
    "    if len(s)==0:\n",
    "        continue\n",
    "    if s[0] == '#':\n",
    "        continue\n",
    "    \n",
    "    param_name = s.split(\"=\")[0]\n",
    "    #print(f\"{s.upper()}=\")\n",
    "    print(f\"\\t\\t--{param_name.lower()}  ${param_name}\\\\\")"
   ]
  },
  {
   "cell_type": "code",
   "execution_count": 15,
   "id": "honey-major",
   "metadata": {},
   "outputs": [],
   "source": [
    "hps_cnn = {\n",
    "                     ##Convs\n",
    "                     \"first_cnn_filter_size\": (int, 40),\n",
    "                     \"first_cnn_n_filters\": (int, 128),\n",
    "                     \"first_cnn_pool_size_strides\": (int, 20),\n",
    "                     \"n_convs\": (int, 1),\n",
    "                     \"n_convs_filter_size\": (int, 40),\n",
    "                     \"n_convs_n_filters\": (int, 64),\n",
    "                     \"n_convs_pool_size_stride\": (int, 20),\n",
    "                     #GRU\n",
    "                     \"gru_hidden_size\": (int,30),\n",
    "                     #Fully Connected\n",
    "                     \"first_fcc_size\": (int, 800),\n",
    "                     \"n_fccs\": (int, 1),\n",
    "                     \"fccs_size\": (int, 300),\n",
    "                     #Other hyperparameters\n",
    "                     \"lr\": (float, 0.0007)\n",
    "                 }\n"
   ]
  },
  {
   "cell_type": "code",
   "execution_count": 16,
   "id": "integral-worker",
   "metadata": {},
   "outputs": [],
   "source": [
    "hps_cnn = {\n",
    "                     ##Convs\n",
    "                     \"first_cnn_filter_size\": ('int', 40),\n",
    "                     \"first_cnn_n_filters\": ('int', 128),\n",
    "                     \"first_cnn_pool_size_strides\": ('int', 20),\n",
    "                     \"n_convs\": ('int', 1),\n",
    "                     \"n_convs_filter_size\": ('int', 40),\n",
    "                     \"n_convs_n_filters\": ('int', 64),\n",
    "                     \"n_convs_pool_size_stride\": ('int', 20),\n",
    "                     #GRU\n",
    "                     \"gru_hidden_size\": ('int',30),\n",
    "                     #Fully Connected\n",
    "                     \"first_fcc_size\": ('int', 800),\n",
    "                     \"n_fccs\": ('int', 1),\n",
    "                     \"fccs_size\": ('int', 300),\n",
    "                     #Other hyperparameters\n",
    "                     \"lr\": ('float', 0.0007)\n",
    "                 }\n"
   ]
  },
  {
   "cell_type": "code",
   "execution_count": 17,
   "id": "cleared-samba",
   "metadata": {
    "scrolled": true
   },
   "outputs": [
    {
     "name": "stdout",
     "output_type": "stream",
     "text": [
      "\n",
      "    parser.add_argument('--first_cnn_filter_size',  # first_cnn_filter_size\n",
      "                    help='network hyperparameter first_cnn_filter_size',\n",
      "                    required=True,\n",
      "                    type=int)\n",
      "    \n",
      "\n",
      "    parser.add_argument('--first_cnn_n_filters',  # first_cnn_n_filters\n",
      "                    help='network hyperparameter first_cnn_n_filters',\n",
      "                    required=True,\n",
      "                    type=int)\n",
      "    \n",
      "\n",
      "    parser.add_argument('--first_cnn_pool_size_strides',  # first_cnn_pool_size_strides\n",
      "                    help='network hyperparameter first_cnn_pool_size_strides',\n",
      "                    required=True,\n",
      "                    type=int)\n",
      "    \n",
      "\n",
      "    parser.add_argument('--n_convs',  # n_convs\n",
      "                    help='network hyperparameter n_convs',\n",
      "                    required=True,\n",
      "                    type=int)\n",
      "    \n",
      "\n",
      "    parser.add_argument('--n_convs_filter_size',  # n_convs_filter_size\n",
      "                    help='network hyperparameter n_convs_filter_size',\n",
      "                    required=True,\n",
      "                    type=int)\n",
      "    \n",
      "\n",
      "    parser.add_argument('--n_convs_n_filters',  # n_convs_n_filters\n",
      "                    help='network hyperparameter n_convs_n_filters',\n",
      "                    required=True,\n",
      "                    type=int)\n",
      "    \n",
      "\n",
      "    parser.add_argument('--n_convs_pool_size_stride',  # n_convs_pool_size_stride\n",
      "                    help='network hyperparameter n_convs_pool_size_stride',\n",
      "                    required=True,\n",
      "                    type=int)\n",
      "    \n",
      "\n",
      "    parser.add_argument('--gru_hidden_size',  # gru_hidden_size\n",
      "                    help='network hyperparameter gru_hidden_size',\n",
      "                    required=True,\n",
      "                    type=int)\n",
      "    \n",
      "\n",
      "    parser.add_argument('--first_fcc_size',  # first_fcc_size\n",
      "                    help='network hyperparameter first_fcc_size',\n",
      "                    required=True,\n",
      "                    type=int)\n",
      "    \n",
      "\n",
      "    parser.add_argument('--n_fccs',  # n_fccs\n",
      "                    help='network hyperparameter n_fccs',\n",
      "                    required=True,\n",
      "                    type=int)\n",
      "    \n",
      "\n",
      "    parser.add_argument('--fccs_size',  # fccs_size\n",
      "                    help='network hyperparameter fccs_size',\n",
      "                    required=True,\n",
      "                    type=int)\n",
      "    \n",
      "\n",
      "    parser.add_argument('--lr',  # lr\n",
      "                    help='network hyperparameter lr',\n",
      "                    required=True,\n",
      "                    type=float)\n",
      "    \n"
     ]
    }
   ],
   "source": [
    "for k, v in hps_cnn.items():\n",
    "    dtyp = str(v[0])\n",
    "    sss = f\"\"\"\n",
    "    parser.add_argument('--{k}',  # {k}\n",
    "                    help='network hyperparameter {k}',\n",
    "                    required=True,\n",
    "                    type={dtyp})\n",
    "    \"\"\"\n",
    "    print(sss)"
   ]
  },
  {
   "cell_type": "code",
   "execution_count": 18,
   "id": "excess-violence",
   "metadata": {},
   "outputs": [
    {
     "name": "stdout",
     "output_type": "stream",
     "text": [
      "hps['first_cnn_filter_size'] = args.first_cnn_filter_size\n",
      "hps['first_cnn_n_filters'] = args.first_cnn_n_filters\n",
      "hps['first_cnn_pool_size_strides'] = args.first_cnn_pool_size_strides\n",
      "hps['n_convs'] = args.n_convs\n",
      "hps['n_convs_filter_size'] = args.n_convs_filter_size\n",
      "hps['n_convs_n_filters'] = args.n_convs_n_filters\n",
      "hps['n_convs_pool_size_stride'] = args.n_convs_pool_size_stride\n",
      "hps['gru_hidden_size'] = args.gru_hidden_size\n",
      "hps['first_fcc_size'] = args.first_fcc_size\n",
      "hps['n_fccs'] = args.n_fccs\n",
      "hps['fccs_size'] = args.fccs_size\n",
      "hps['lr'] = args.lr\n"
     ]
    }
   ],
   "source": [
    "for k, v in hps_cnn.items():\n",
    "    dtyp = str(v[0])\n",
    "    print(f\"hps['{k}'] = args.{k}\")"
   ]
  },
  {
   "cell_type": "code",
   "execution_count": null,
   "id": "recreational-testament",
   "metadata": {},
   "outputs": [],
   "source": []
  },
  {
   "cell_type": "code",
   "execution_count": 2,
   "id": "unsigned-premium",
   "metadata": {},
   "outputs": [],
   "source": [
    "d = {0: {'loss': [1.1330173015594482, 1.0272395610809326], \n",
    "     'A_hotspots_intersect_loss': [0.5528090596199036, 0.47293320298194885], \n",
    "     'C_loss': [0.5802079439163208, 0.5543064475059509], \n",
    "     'A_hotspots_intersect_accuracy': [0.7385603189468384, 0.7864668369293213],\n",
    "     'A_hotspots_intersect_auc': [0.6473114490509033, 0.7781895995140076],\n",
    "     'A_hotspots_intersect_precision': [0.5329779982566833, 0.6692096590995789], \n",
    "     'A_hotspots_intersect_recall': [0.06859298795461655, 0.3760610520839691],\n",
    "     'A_hotspots_intersect_f1_m': [0.10832660645246506, 0.47488924860954285],\n",
    "     'C_accuracy': [0.7345361113548279, 0.7370229959487915], 'C_auc': [0.5402265191078186, 0.6330733299255371], 'C_precision': [0.261904776096344, 0.27272728085517883], 'C_recall': [0.00567888468503952, 0.0005162622546777129], 'C_f1_m': [0.007904118858277798, 0.0008035047212615609], 'val_loss': [1.2134422063827515, 1.012136697769165], 'val_A_hotspots_intersect_loss': [0.6187703013420105, 0.4609335660934448], 'val_C_loss': [0.5946718454360962, 0.5512031316757202], 'val_A_hotspots_intersect_accuracy': [0.7386389374732971, 0.7893737554550171], 'val_A_hotspots_intersect_auc': [0.7791789770126343, 0.8214239478111267], 'val_A_hotspots_intersect_precision': [0.7819548845291138, 0.8629472255706787], 'val_A_hotspots_intersect_recall': [0.017762595787644386, 0.24304012954235077], 'val_A_hotspots_intersect_f1_m': [0.03354958817362785, 0.37378260493278503], 'val_C_accuracy': [0.7382319569587708, 0.7382319569587708], 'val_C_auc': [0.5210119485855103, 0.6514216661453247], 'val_C_precision': [0.0, 0.0], 'val_C_recall': [0.0, 0.0], 'val_C_f1_m': [0.0, 0.0]}, 1: {'loss': [1.132620096206665, 1.0170320272445679], 'A_hotspots_intersect_loss': [0.5499920845031738, 0.45870721340179443], 'C_loss': [0.582627534866333, 0.558324933052063], 'A_hotspots_intersect_accuracy': [0.7388257384300232, 0.7949628233909607], 'A_hotspots_intersect_auc': [0.654166042804718, 0.793841540813446], 'A_hotspots_intersect_precision': [0.511904776096344, 0.6798351407051086], 'A_hotspots_intersect_recall': [0.0889655202627182, 0.4124138057231903], 'A_hotspots_intersect_f1_m': [0.13641111552715302, 0.5087425112724304], 'C_accuracy': [0.735072672367096, 0.7366552948951721], 'C_auc': [0.5284631848335266, 0.6222224235534668], 'C_precision': [0.2666666805744171, 0.0], 'C_recall': [0.0034340659622102976, 0.0], 'C_f1_m': [0.005037898663431406, 0.0], 'val_loss': [1.677819013595581, 0.9935998916625977], 'val_A_hotspots_intersect_loss': [1.0839861631393433, 0.4327869713306427], 'val_C_loss': [0.5938330888748169, 0.5608128905296326], 'val_A_hotspots_intersect_accuracy': [0.7325013279914856, 0.8214867115020752], 'val_A_hotspots_intersect_auc': [0.7772681713104248, 0.8442957997322083], 'val_A_hotspots_intersect_precision': [1.0, 0.7921115159988403], 'val_A_hotspots_intersect_recall': [0.00033795202034525573, 0.4513349235057831], 'val_A_hotspots_intersect_f1_m': [0.0006627751281484962, 0.5711882710456848], 'val_C_accuracy': [0.7394194006919861, 0.7394194006919861], 'val_C_auc': [0.4940199553966522, 0.65553879737854], 'val_C_precision': [0.0, 0.0], 'val_C_recall': [0.0, 0.0], 'val_C_f1_m': [0.0, 0.0]}, 2: {'loss': [1.1488938331604004, 1.0884535312652588], 'A_hotspots_intersect_loss': [0.5631797909736633, 0.518268346786499], 'C_loss': [0.58571457862854, 0.5701848864555359], 'A_hotspots_intersect_accuracy': [0.7312518358230591, 0.750830888748169], 'A_hotspots_intersect_auc': [0.6277969479560852, 0.7212309241294861], 'A_hotspots_intersect_precision': [0.43961864709854126, 0.6018418073654175], 'A_hotspots_intersect_recall': [0.03525014966726303, 0.1887369453907013], 'A_hotspots_intersect_f1_m': [0.05991080775856972, 0.2614450752735138], 'C_accuracy': [0.7331961989402771, 0.7388257384300232], 'C_auc': [0.5190175175666809, 0.557059109210968], 'C_precision': [0.2849740982055664, 0.0], 'C_recall': [0.014283240772783756, 0.0], 'C_f1_m': [0.015486901625990868, 0.0], 'val_loss': [1.1455960273742676, 1.1761207580566406], 'val_A_hotspots_intersect_loss': [0.5633557438850403, 0.6018941402435303], 'val_C_loss': [0.5822396278381348, 0.5742266178131104], 'val_A_hotspots_intersect_accuracy': [0.7403689622879028, 0.7438054084777832], 'val_A_hotspots_intersect_auc': [0.6878979206085205, 0.7493789196014404], 'val_A_hotspots_intersect_precision': [1.0, 0.8989899158477783], 'val_A_hotspots_intersect_recall': [0.0005221932078711689, 0.015491732396185398], 'val_A_hotspots_intersect_f1_m': [0.0012014704989269376, 0.029969383031129837], 'val_C_accuracy': [0.7350786924362183, 0.7350786924362183], 'val_C_auc': [0.5467149615287781, 0.5711535215377808],\n",
    "'val_C_precision': [0.0, 0.0], 'val_C_recall': [0.0, 0.0], 'val_C_f1_m': [0.0, 0.0]}}"
   ]
  },
  {
   "cell_type": "code",
   "execution_count": 4,
   "id": "innovative-formula",
   "metadata": {},
   "outputs": [
    {
     "data": {
      "text/plain": [
       "{'loss': [1.1330173015594482, 1.0272395610809326],\n",
       " 'A_hotspots_intersect_loss': [0.5528090596199036, 0.47293320298194885],\n",
       " 'C_loss': [0.5802079439163208, 0.5543064475059509],\n",
       " 'A_hotspots_intersect_accuracy': [0.7385603189468384, 0.7864668369293213],\n",
       " 'A_hotspots_intersect_auc': [0.6473114490509033, 0.7781895995140076],\n",
       " 'A_hotspots_intersect_precision': [0.5329779982566833, 0.6692096590995789],\n",
       " 'A_hotspots_intersect_recall': [0.06859298795461655, 0.3760610520839691],\n",
       " 'A_hotspots_intersect_f1_m': [0.10832660645246506, 0.47488924860954285],\n",
       " 'C_accuracy': [0.7345361113548279, 0.7370229959487915],\n",
       " 'C_auc': [0.5402265191078186, 0.6330733299255371],\n",
       " 'C_precision': [0.261904776096344, 0.27272728085517883],\n",
       " 'C_recall': [0.00567888468503952, 0.0005162622546777129],\n",
       " 'C_f1_m': [0.007904118858277798, 0.0008035047212615609],\n",
       " 'val_loss': [1.2134422063827515, 1.012136697769165],\n",
       " 'val_A_hotspots_intersect_loss': [0.6187703013420105, 0.4609335660934448],\n",
       " 'val_C_loss': [0.5946718454360962, 0.5512031316757202],\n",
       " 'val_A_hotspots_intersect_accuracy': [0.7386389374732971, 0.7893737554550171],\n",
       " 'val_A_hotspots_intersect_auc': [0.7791789770126343, 0.8214239478111267],\n",
       " 'val_A_hotspots_intersect_precision': [0.7819548845291138,\n",
       "  0.8629472255706787],\n",
       " 'val_A_hotspots_intersect_recall': [0.017762595787644386,\n",
       "  0.24304012954235077],\n",
       " 'val_A_hotspots_intersect_f1_m': [0.03354958817362785, 0.37378260493278503],\n",
       " 'val_C_accuracy': [0.7382319569587708, 0.7382319569587708],\n",
       " 'val_C_auc': [0.5210119485855103, 0.6514216661453247],\n",
       " 'val_C_precision': [0.0, 0.0],\n",
       " 'val_C_recall': [0.0, 0.0],\n",
       " 'val_C_f1_m': [0.0, 0.0]}"
      ]
     },
     "execution_count": 4,
     "metadata": {},
     "output_type": "execute_result"
    }
   ],
   "source": [
    "d[0]"
   ]
  },
  {
   "cell_type": "code",
   "execution_count": null,
   "id": "infrared-portrait",
   "metadata": {},
   "outputs": [],
   "source": []
  },
  {
   "cell_type": "code",
   "execution_count": 7,
   "id": "confident-attribute",
   "metadata": {},
   "outputs": [],
   "source": [
    "import numpy as np\n",
    "temp1 = np.array([1, 1, 3])\n",
    "temp2 = temp1 * 10"
   ]
  },
  {
   "cell_type": "code",
   "execution_count": 12,
   "id": "surrounded-reynolds",
   "metadata": {},
   "outputs": [
    {
     "data": {
      "text/plain": [
       "array([10, 10, 30])"
      ]
     },
     "execution_count": 12,
     "metadata": {},
     "output_type": "execute_result"
    }
   ],
   "source": [
    "temp2"
   ]
  },
  {
   "cell_type": "code",
   "execution_count": 8,
   "id": "impressive-portsmouth",
   "metadata": {},
   "outputs": [
    {
     "data": {
      "text/plain": [
       "array([0.2, 0.2, 0.6])"
      ]
     },
     "execution_count": 8,
     "metadata": {},
     "output_type": "execute_result"
    }
   ],
   "source": [
    "temp1/temp1.sum()"
   ]
  },
  {
   "cell_type": "code",
   "execution_count": 9,
   "id": "referenced-brake",
   "metadata": {},
   "outputs": [
    {
     "name": "stderr",
     "output_type": "stream",
     "text": [
      "<ipython-input-9-012e4a5bbb89>:1: DeprecationWarning: Calling np.sum(generator) is deprecated, and in the future will give a different result. Use np.sum(np.fromiter(generator)) or the python sum builtin instead.\n",
      "  np.exp(temp1)/np.sum(np.exp(t) for t in temp1)\n"
     ]
    },
    {
     "data": {
      "text/plain": [
       "array([0.10650698, 0.10650698, 0.78698604])"
      ]
     },
     "execution_count": 9,
     "metadata": {},
     "output_type": "execute_result"
    }
   ],
   "source": [
    "np.exp(temp1)/np.sum(np.exp(t) for t in temp1)"
   ]
  },
  {
   "cell_type": "code",
   "execution_count": 10,
   "id": "direct-mixture",
   "metadata": {},
   "outputs": [
    {
     "data": {
      "text/plain": [
       "array([0.2, 0.2, 0.6])"
      ]
     },
     "execution_count": 10,
     "metadata": {},
     "output_type": "execute_result"
    }
   ],
   "source": [
    "temp2/temp2.sum()"
   ]
  },
  {
   "cell_type": "code",
   "execution_count": 11,
   "id": "operating-cornell",
   "metadata": {},
   "outputs": [
    {
     "name": "stderr",
     "output_type": "stream",
     "text": [
      "<ipython-input-11-213d80befffb>:1: DeprecationWarning: Calling np.sum(generator) is deprecated, and in the future will give a different result. Use np.sum(np.fromiter(generator)) or the python sum builtin instead.\n",
      "  np.exp(temp2)/np.sum(np.exp(t) for t in temp2)\n"
     ]
    },
    {
     "data": {
      "text/plain": [
       "array([2.06115361e-09, 2.06115361e-09, 9.99999996e-01])"
      ]
     },
     "execution_count": 11,
     "metadata": {},
     "output_type": "execute_result"
    }
   ],
   "source": [
    "np.exp(temp2)/np.sum(np.exp(t) for t in temp2)"
   ]
  },
  {
   "cell_type": "code",
   "execution_count": null,
   "id": "visible-myanmar",
   "metadata": {},
   "outputs": [],
   "source": []
  },
  {
   "cell_type": "code",
   "execution_count": null,
   "id": "former-question",
   "metadata": {},
   "outputs": [],
   "source": []
  }
 ],
 "metadata": {
  "kernelspec": {
   "display_name": "Python 3",
   "language": "python",
   "name": "python3"
  },
  "language_info": {
   "codemirror_mode": {
    "name": "ipython",
    "version": 3
   },
   "file_extension": ".py",
   "mimetype": "text/x-python",
   "name": "python",
   "nbconvert_exporter": "python",
   "pygments_lexer": "ipython3",
   "version": "3.8.8"
  }
 },
 "nbformat": 4,
 "nbformat_minor": 5
}
