{
 "cells": [
  {
   "cell_type": "code",
   "execution_count": 1,
   "id": "7c473a8b",
   "metadata": {},
   "outputs": [],
   "source": [
    "import h5py\n",
    "import gzip\n",
    "from Bio import SeqIO\n",
    "import os\n",
    "from mimetypes import guess_type\n",
    "from functools import partial\n",
    "import time\n",
    "import json\n",
    "import numpy as np\n",
    "from refGenome import refGenome_h5\n",
    "import seaborn as sb\n",
    "import matplotlib.pyplot as plt\n",
    "from Dataset import SubIntervalDataset\n",
    "import pandas as pd"
   ]
  },
  {
   "cell_type": "code",
   "execution_count": 2,
   "id": "54b32562-f8ac-44aa-b895-6e4bb5a0d9ef",
   "metadata": {},
   "outputs": [],
   "source": [
    "#@numba.jit(parallel=True)\n",
    "def build_h5(fastas_path, \n",
    "             output_file_name, \n",
    "             encoding_dict={'A':0, 'C':1, 'T':2, 'G':3, 'N':4, 'M':4, 'R':4}, \n",
    "             files_prefix=\"Homo_sapiens.GRCh38.dna.chromosome.\",\n",
    "             chromosomes_list=list(range(1,23)) + ['X','Y','MT'],\n",
    "             file_extension = 'fa.gz',\n",
    "             chunk_size=(100000,)):\n",
    "    \"\"\"\n",
    "    https://stackoverflow.com/questions/42757283/seqio-parse-on-a-fasta-gz\n",
    "    \n",
    "    It will always read the first record only\n",
    "    Save the encoding dict as metadata in the h5 file\n",
    "    Each chromosome is a dataset\n",
    "    \n",
    "    @param files_prefix: the fasta files start with this string, followed by the number\\name of the chromosome\n",
    "    @param chromosomes: a list of the names that come after the prefix to use. You can use this to filter out \n",
    "                  chromosomes if not needed.\n",
    "                  \n",
    "    @param chunk_size: the chunk size of the h5 dataset. Data elements will be loaded in blocks of this size, so\n",
    "                       the larger the number is, the more RAM it takes but less disk IO\n",
    "    \"\"\"\n",
    "    #TODO: MAKE SURE THAT THE ENCODING_DICT TRANSLATES TO INTEGERS\n",
    "    output_file = h5py.File(output_file_name + \".h5\", \"a\")\n",
    "    \n",
    "    output_file[\"./\"].attrs[\"available_chromosomes\"] = []\n",
    "    output_file[\"./\"].attrs['time created'] = time.time()\n",
    "    \n",
    "    #Dictionaries are not natively supported in h5, and need to be serialized. Using json.dumps for that\n",
    "    metadata_dict = {}\n",
    "    metadata_dict[\"encoding_dict\"] = json.dumps(encoding_dict)\n",
    "    metadata_dict[\"available_chromosomes\"] = []\n",
    "    metadata_dict['chr_lengths'] = {}\n",
    "    metadata_dict['time created'] = time.time()\n",
    "    \n",
    "    for chromosome in chromosomes_list:\n",
    "        fname = f\"{files_prefix}{chromosome}.{file_extension}\"\n",
    "        file = os.path.join(fastas_path, fname)\n",
    "        \n",
    "        encoding = guess_type(file)[1]  # uses file extension\n",
    "        _open = partial(gzip.open, mode='rt') if encoding == 'gzip' else open\n",
    "        print(f\"\\tencoding {encoding}\")\n",
    "        \n",
    "        with _open(file) as handle:\n",
    "            print(f\"\\t{file} was opened successfully, parsing\")\n",
    "            print(\"\\tFound FASTA records in file:\")\n",
    "            \n",
    "            for i, record in enumerate(SeqIO.parse(handle, \"fasta\")):\n",
    "                \n",
    "                if i > 0:\n",
    "                    print(f\"\\tFile {file} contains more than one record, skipping them ({record})\")\n",
    "                    continue\n",
    "                \n",
    "                print(\"\\tSequence ID:\", record.id)\n",
    "                sequence = list(str(record.seq))\n",
    "                \n",
    "                sequence = [encoding_dict[ str.upper(bp) \n",
    "                                         ] for bp in sequence]\n",
    "                \n",
    "                seq_len = len(sequence)\n",
    "                print(\"\\tSequence Length:\", seq_len)\n",
    "                \n",
    "                chromosome_arr  = np.array(sequence, dtype=np.int8)\n",
    "                \n",
    "                #Save each as an integer of 1 byte\n",
    "                cs = chunk_size if chromosome != \"MT\" else True\n",
    "                output_file.create_dataset(f\"chr_{chromosome}\", data=chromosome_arr, dtype='i1', chunks=cs)\n",
    "                metadata_dict[\"available_chromosomes\"].append(record.id)\n",
    "                metadata_dict['chr_lengths'][f\"chr_{chromosome}\"] = seq_len\n",
    "                \n",
    "    print(metadata_dict)\n",
    "    output_file[\"./\"].attrs[\"metadata\"] = json.dumps(metadata_dict)\n",
    "    output_file.close()"
   ]
  },
  {
   "cell_type": "code",
   "execution_count": 4,
   "id": "4bf6d30c-3011-46a7-895a-30a80ffdf0f9",
   "metadata": {},
   "outputs": [
    {
     "name": "stdout",
     "output_type": "stream",
     "text": [
      "\tencoding gzip\n",
      "\t/lustre06/project/6065672/otastet1/ref/ref_by_chr/16.fa.gz was opened successfully, parsing\n",
      "\tFound FASTA records in file:\n",
      "\tSequence ID: 16\n",
      "\tSequence Length: 90354753\n",
      "\tencoding gzip\n",
      "\t/lustre06/project/6065672/otastet1/ref/ref_by_chr/17.fa.gz was opened successfully, parsing\n",
      "\tFound FASTA records in file:\n",
      "\tSequence ID: 17\n",
      "\tSequence Length: 81195210\n",
      "\tencoding gzip\n",
      "\t/lustre06/project/6065672/otastet1/ref/ref_by_chr/18.fa.gz was opened successfully, parsing\n",
      "\tFound FASTA records in file:\n",
      "\tSequence ID: 18\n",
      "\tSequence Length: 78077248\n",
      "\tencoding gzip\n",
      "\t/lustre06/project/6065672/otastet1/ref/ref_by_chr/19.fa.gz was opened successfully, parsing\n",
      "\tFound FASTA records in file:\n",
      "\tSequence ID: 19\n",
      "\tSequence Length: 59128983\n",
      "\tencoding gzip\n",
      "\t/lustre06/project/6065672/otastet1/ref/ref_by_chr/20.fa.gz was opened successfully, parsing\n",
      "\tFound FASTA records in file:\n",
      "\tSequence ID: 20\n",
      "\tSequence Length: 63025520\n",
      "\tencoding gzip\n",
      "\t/lustre06/project/6065672/otastet1/ref/ref_by_chr/21.fa.gz was opened successfully, parsing\n",
      "\tFound FASTA records in file:\n",
      "\tSequence ID: 21\n",
      "\tSequence Length: 48129895\n",
      "\tencoding gzip\n",
      "\t/lustre06/project/6065672/otastet1/ref/ref_by_chr/22.fa.gz was opened successfully, parsing\n",
      "\tFound FASTA records in file:\n",
      "\tSequence ID: 22\n",
      "\tSequence Length: 51304566\n",
      "{'encoding_dict': '{\"A\": 0, \"C\": 1, \"T\": 2, \"G\": 3, \"N\": 4, \"M\": 4, \"R\": 4}', 'available_chromosomes': ['16', '17', '18', '19', '20', '21', '22'], 'chr_lengths': {'chr_16': 90354753, 'chr_17': 81195210, 'chr_18': 78077248, 'chr_19': 59128983, 'chr_20': 63025520, 'chr_21': 48129895, 'chr_22': 51304566}, 'time created': 1666373954.8057423}\n"
     ]
    }
   ],
   "source": [
    "ref_genome_path = \"/lustre06/project/6065672/otastet1/ref/ref_by_chr/\"\n",
    "build_h5(ref_genome_path,\n",
    "         files_prefix =\"\",\n",
    "         chromosomes_list=list(range(16,23)),\n",
    "         output_file_name='/lustre06/project/6065672/otastet1/ref/test_chipseq/genome_test')"
   ]
  },
  {
   "cell_type": "code",
   "execution_count": 5,
   "id": "08db9f8d-0845-43ca-a8d9-9a149c909944",
   "metadata": {},
   "outputs": [
    {
     "ename": "FileNotFoundError",
     "evalue": "[Errno 2] Unable to open file (unable to open file: name = '/lustre06/project/6065672/otastet1/ref/test_chipseq/h5/genome_test', errno = 2, error message = 'No such file or directory', flags = 0, o_flags = 0)",
     "output_type": "error",
     "traceback": [
      "\u001b[0;31m---------------------------------------------------------------------------\u001b[0m",
      "\u001b[0;31mFileNotFoundError\u001b[0m                         Traceback (most recent call last)",
      "Cell \u001b[0;32mIn [5], line 1\u001b[0m\n\u001b[0;32m----> 1\u001b[0m grch37_ds \u001b[38;5;241m=\u001b[39m \u001b[43mrefGenome_h5\u001b[49m\u001b[43m(\u001b[49m\u001b[38;5;124;43m'\u001b[39;49m\u001b[38;5;124;43m/lustre06/project/6065672/otastet1/ref/test_chipseq/h5/genome_test\u001b[39;49m\u001b[38;5;124;43m'\u001b[39;49m\u001b[43m)\u001b[49m\n",
      "File \u001b[0;32m/lustre06/project/6065672/otastet1/projects/prdm9_chipseq/recode/build_dataset/refGenome.py:10\u001b[0m, in \u001b[0;36mrefGenome_h5.__init__\u001b[0;34m(self, h5_path)\u001b[0m\n\u001b[1;32m      7\u001b[0m \u001b[38;5;28;01mdef\u001b[39;00m \u001b[38;5;21m__init__\u001b[39m(\u001b[38;5;28mself\u001b[39m, h5_path):\n\u001b[1;32m      8\u001b[0m \n\u001b[1;32m      9\u001b[0m     \u001b[38;5;66;03m# read file\u001b[39;00m\n\u001b[0;32m---> 10\u001b[0m     \u001b[38;5;28mself\u001b[39m\u001b[38;5;241m.\u001b[39mf \u001b[38;5;241m=\u001b[39m \u001b[43mh5py\u001b[49m\u001b[38;5;241;43m.\u001b[39;49m\u001b[43mFile\u001b[49m\u001b[43m(\u001b[49m\u001b[43mh5_path\u001b[49m\u001b[43m,\u001b[49m\u001b[43m \u001b[49m\u001b[38;5;124;43m'\u001b[39;49m\u001b[38;5;124;43mr\u001b[39;49m\u001b[38;5;124;43m'\u001b[39;49m\u001b[43m)\u001b[49m\n\u001b[1;32m     12\u001b[0m     \u001b[38;5;66;03m# Print available datasets\u001b[39;00m\n\u001b[1;32m     13\u001b[0m     \u001b[38;5;28;01mfor\u001b[39;00m key \u001b[38;5;129;01min\u001b[39;00m \u001b[38;5;28mself\u001b[39m\u001b[38;5;241m.\u001b[39mf\u001b[38;5;241m.\u001b[39mkeys():\n",
      "File \u001b[0;32m/lustre06/project/6065672/otastet1/jupyter_env/lib/python3.8/site-packages/h5py/_hl/files.py:507\u001b[0m, in \u001b[0;36mFile.__init__\u001b[0;34m(self, name, mode, driver, libver, userblock_size, swmr, rdcc_nslots, rdcc_nbytes, rdcc_w0, track_order, fs_strategy, fs_persist, fs_threshold, fs_page_size, page_buf_size, min_meta_keep, min_raw_keep, locking, **kwds)\u001b[0m\n\u001b[1;32m    502\u001b[0m     fapl \u001b[38;5;241m=\u001b[39m make_fapl(driver, libver, rdcc_nslots, rdcc_nbytes, rdcc_w0,\n\u001b[1;32m    503\u001b[0m                      locking, page_buf_size, min_meta_keep, min_raw_keep, \u001b[38;5;241m*\u001b[39m\u001b[38;5;241m*\u001b[39mkwds)\n\u001b[1;32m    504\u001b[0m     fcpl \u001b[38;5;241m=\u001b[39m make_fcpl(track_order\u001b[38;5;241m=\u001b[39mtrack_order, fs_strategy\u001b[38;5;241m=\u001b[39mfs_strategy,\n\u001b[1;32m    505\u001b[0m                      fs_persist\u001b[38;5;241m=\u001b[39mfs_persist, fs_threshold\u001b[38;5;241m=\u001b[39mfs_threshold,\n\u001b[1;32m    506\u001b[0m                      fs_page_size\u001b[38;5;241m=\u001b[39mfs_page_size)\n\u001b[0;32m--> 507\u001b[0m     fid \u001b[38;5;241m=\u001b[39m \u001b[43mmake_fid\u001b[49m\u001b[43m(\u001b[49m\u001b[43mname\u001b[49m\u001b[43m,\u001b[49m\u001b[43m \u001b[49m\u001b[43mmode\u001b[49m\u001b[43m,\u001b[49m\u001b[43m \u001b[49m\u001b[43muserblock_size\u001b[49m\u001b[43m,\u001b[49m\u001b[43m \u001b[49m\u001b[43mfapl\u001b[49m\u001b[43m,\u001b[49m\u001b[43m \u001b[49m\u001b[43mfcpl\u001b[49m\u001b[43m,\u001b[49m\u001b[43m \u001b[49m\u001b[43mswmr\u001b[49m\u001b[38;5;241;43m=\u001b[39;49m\u001b[43mswmr\u001b[49m\u001b[43m)\u001b[49m\n\u001b[1;32m    509\u001b[0m \u001b[38;5;28;01mif\u001b[39;00m \u001b[38;5;28misinstance\u001b[39m(libver, \u001b[38;5;28mtuple\u001b[39m):\n\u001b[1;32m    510\u001b[0m     \u001b[38;5;28mself\u001b[39m\u001b[38;5;241m.\u001b[39m_libver \u001b[38;5;241m=\u001b[39m libver\n",
      "File \u001b[0;32m/lustre06/project/6065672/otastet1/jupyter_env/lib/python3.8/site-packages/h5py/_hl/files.py:220\u001b[0m, in \u001b[0;36mmake_fid\u001b[0;34m(name, mode, userblock_size, fapl, fcpl, swmr)\u001b[0m\n\u001b[1;32m    218\u001b[0m     \u001b[38;5;28;01mif\u001b[39;00m swmr \u001b[38;5;129;01mand\u001b[39;00m swmr_support:\n\u001b[1;32m    219\u001b[0m         flags \u001b[38;5;241m|\u001b[39m\u001b[38;5;241m=\u001b[39m h5f\u001b[38;5;241m.\u001b[39mACC_SWMR_READ\n\u001b[0;32m--> 220\u001b[0m     fid \u001b[38;5;241m=\u001b[39m \u001b[43mh5f\u001b[49m\u001b[38;5;241;43m.\u001b[39;49m\u001b[43mopen\u001b[49m\u001b[43m(\u001b[49m\u001b[43mname\u001b[49m\u001b[43m,\u001b[49m\u001b[43m \u001b[49m\u001b[43mflags\u001b[49m\u001b[43m,\u001b[49m\u001b[43m \u001b[49m\u001b[43mfapl\u001b[49m\u001b[38;5;241;43m=\u001b[39;49m\u001b[43mfapl\u001b[49m\u001b[43m)\u001b[49m\n\u001b[1;32m    221\u001b[0m \u001b[38;5;28;01melif\u001b[39;00m mode \u001b[38;5;241m==\u001b[39m \u001b[38;5;124m'\u001b[39m\u001b[38;5;124mr+\u001b[39m\u001b[38;5;124m'\u001b[39m:\n\u001b[1;32m    222\u001b[0m     fid \u001b[38;5;241m=\u001b[39m h5f\u001b[38;5;241m.\u001b[39mopen(name, h5f\u001b[38;5;241m.\u001b[39mACC_RDWR, fapl\u001b[38;5;241m=\u001b[39mfapl)\n",
      "File \u001b[0;32mh5py/_objects.pyx:54\u001b[0m, in \u001b[0;36mh5py._objects.with_phil.wrapper\u001b[0;34m()\u001b[0m\n",
      "File \u001b[0;32mh5py/_objects.pyx:55\u001b[0m, in \u001b[0;36mh5py._objects.with_phil.wrapper\u001b[0;34m()\u001b[0m\n",
      "File \u001b[0;32mh5py/h5f.pyx:106\u001b[0m, in \u001b[0;36mh5py.h5f.open\u001b[0;34m()\u001b[0m\n",
      "\u001b[0;31mFileNotFoundError\u001b[0m: [Errno 2] Unable to open file (unable to open file: name = '/lustre06/project/6065672/otastet1/ref/test_chipseq/h5/genome_test', errno = 2, error message = 'No such file or directory', flags = 0, o_flags = 0)"
     ]
    }
   ],
   "source": [
    "grch37_ds = refGenome_h5('/lustre06/project/6065672/otastet1/ref/test_chipseq/h5/genome_test')"
   ]
  },
  {
   "cell_type": "code",
   "execution_count": 10,
   "id": "e3a06efc-1893-4a03-a66d-c9a407c76f49",
   "metadata": {},
   "outputs": [
    {
     "name": "stdout",
     "output_type": "stream",
     "text": [
      "[[ 0 19]\n",
      " [ 1 12]\n",
      " [ 2 47]\n",
      " [ 3 22]]\n"
     ]
    }
   ],
   "source": [
    "all_chr = grch37_ds.get_seq_by_chr_and_indices('chr_21',int(48129895/2),int(48129895/2)+100)\n",
    "unique, counts = np.unique(all_chr, return_counts=True)\n",
    "print(np.asarray((unique, counts)).T)"
   ]
  },
  {
   "cell_type": "code",
   "execution_count": 34,
   "id": "dd8fc524-daea-4179-b79d-37b803a426d0",
   "metadata": {},
   "outputs": [
    {
     "data": {
      "text/plain": [
       "array([1, 2, 1, 0], dtype=int8)"
      ]
     },
     "execution_count": 34,
     "metadata": {},
     "output_type": "execute_result"
    }
   ],
   "source": [
    "all_chr = grch37_ds.get_seq_by_chr_and_midpoint('chr_21',int(48129895/2),15)\n",
    "all_chr[:4]"
   ]
  },
  {
   "cell_type": "code",
   "execution_count": 36,
   "id": "ceae5c54-32fe-4c99-8164-3d67d96b7522",
   "metadata": {},
   "outputs": [
    {
     "data": {
      "text/plain": [
       "['C', 'T', 'C', 'A']"
      ]
     },
     "execution_count": 36,
     "metadata": {},
     "output_type": "execute_result"
    }
   ],
   "source": [
    "decode = grch37_ds.convert_num_to_bases(all_chr[:4])\n",
    "decode[:4]"
   ]
  },
  {
   "cell_type": "code",
   "execution_count": 37,
   "id": "5d0eae1e-0e43-4161-8d28-39a56cf5dff6",
   "metadata": {},
   "outputs": [
    {
     "data": {
      "text/plain": [
       "[1, 2, 1, 0]"
      ]
     },
     "execution_count": 37,
     "metadata": {},
     "output_type": "execute_result"
    }
   ],
   "source": [
    "grch37_ds.convert_bases_to_num(decode[:4])"
   ]
  },
  {
   "cell_type": "code",
   "execution_count": 38,
   "id": "20967c13-1cd6-4f7b-a2f1-af0a31064bc5",
   "metadata": {},
   "outputs": [
    {
     "data": {
      "text/plain": [
       "<AxesSubplot: >"
      ]
     },
     "execution_count": 38,
     "metadata": {},
     "output_type": "execute_result"
    },
    {
     "data": {
      "image/png": "[encoded data removed]",
      "text/plain": [
       "<Figure size 1440x144 with 2 Axes>"
      ]
     },
     "metadata": {
      "needs_background": "light"
     },
     "output_type": "display_data"
    }
   ],
   "source": [
    "%matplotlib inline\n",
    "plt.rcParams[\"figure.figsize\"] = (20, 2) # (w, h)\n",
    "\n",
    "sb.heatmap(grch37_ds.one_hot_encode(all_chr).T,cmap = sb.color_palette(\"rocket_r\", as_cmap=True))"
   ]
  },
  {
   "cell_type": "code",
   "execution_count": 39,
   "id": "8efd5b92-1d8a-4904-bf4e-3ba3b35616fe",
   "metadata": {},
   "outputs": [
    {
     "data": {
      "text/plain": [
       "{'encoding_dict': {'A': 0, 'C': 1, 'T': 2, 'G': 3, 'N': 4, 'M': 4, 'R': 4},\n",
       " 'available_chromosomes': ['20', '21'],\n",
       " 'chr_lengths': {'20': 63025520, '21': 48129895},\n",
       " 'time created': 1665672883.459766,\n",
       " 'num_2_base_dict': {0: 'A', 1: 'C', 2: 'T', 3: 'G', 4: 'R'},\n",
       " 'num_reverse_compliment_dict': {0: 2, 2: 0, 1: 3, 3: 1, 4: 4}}"
      ]
     },
     "execution_count": 39,
     "metadata": {},
     "output_type": "execute_result"
    }
   ],
   "source": [
    "grch37_ds.metadata"
   ]
  },
  {
   "cell_type": "code",
   "execution_count": null,
   "id": "7070011e-234b-4417-aedd-acc70c51e584",
   "metadata": {},
   "outputs": [],
   "source": []
  }
 ],
 "metadata": {
  "kernelspec": {
   "display_name": "Python 3 (ipykernel)",
   "language": "python",
   "name": "python3"
  },
  "language_info": {
   "codemirror_mode": {
    "name": "ipython",
    "version": 3
   },
   "file_extension": ".py",
   "mimetype": "text/x-python",
   "name": "python",
   "nbconvert_exporter": "python",
   "pygments_lexer": "ipython3",
   "version": "3.8.10"
  }
 },
 "nbformat": 4,
 "nbformat_minor": 5
}
